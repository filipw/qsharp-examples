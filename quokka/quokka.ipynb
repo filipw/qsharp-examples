{
 "cells": [
  {
   "cell_type": "code",
   "execution_count": null,
   "metadata": {},
   "outputs": [],
   "source": [
    "from qsharp_bridge import *\n",
    "import matplotlib.pyplot as plt\n",
    "import os\n",
    "import json\n",
    "import requests\n",
    "from dotenv import load_dotenv\n",
    "from requests.packages.urllib3.exceptions import InsecureRequestWarning\n",
    "requests.packages.urllib3.disable_warnings(InsecureRequestWarning)\n",
    "\n",
    "load_dotenv()"
   ]
  },
  {
   "cell_type": "code",
   "execution_count": null,
   "metadata": {},
   "outputs": [],
   "source": [
    "def visualize(counts):\n",
    "    plt.figure(figsize=(8, 4))\n",
    "    plt.bar(counts.keys(), counts.values())\n",
    "    plt.tight_layout()\n",
    "    plt.show()"
   ]
  },
  {
   "cell_type": "code",
   "execution_count": null,
   "metadata": {},
   "outputs": [],
   "source": [
    "def run_on_quokka(shots, qsharp_code) -> dict[str, int]:\n",
    "    generation_options = QasmGenerationOptions(include_qelib=False, reset_behavior=QasmResetBehavior.IGNORED)\n",
    "    qasm_code = qasm2(qsharp_code, generation_options)\n",
    "\n",
    "    req = {\n",
    "        'script': qasm_code,\n",
    "        'count': shots\n",
    "    }\n",
    "\n",
    "    quokka_url = f\"{os.environ['QUOKKA_URL']}/qsim/qasm\"\n",
    "    result = requests.post(quokka_url, json=req, verify=False)\n",
    "    data = json.loads(result.content)\n",
    "    entries = [str(entry) for entry in data['result']['c']]\n",
    "    counts = {entry: entries.count(entry) for entry in set(entries)}\n",
    "    visualize(counts)\n",
    "    return counts"
   ]
  },
  {
   "cell_type": "code",
   "execution_count": null,
   "metadata": {},
   "outputs": [],
   "source": [
    "code = \"\"\"\n",
    "import Std.Math.*;\n",
    "\n",
    "operation RunBell(op: ((Qubit, Qubit) => Unit)) : (Result, Result) {\n",
    "    use (q1, q2) = (Qubit(), Qubit());\n",
    "    PrepareBellState(q1, q2);\n",
    "    op(q1, q2);\n",
    "    H(q1);\n",
    "    H(q2);\n",
    "    (M(q1), M(q2))\n",
    "}\n",
    "\n",
    "operation PrepareBellState(q1 : Qubit, q2: Qubit) : Unit {\n",
    "    X(q1);\n",
    "    X(q2);\n",
    "    H(q1);\n",
    "    CNOT(q1, q2);\n",
    "}\n",
    "\n",
    "operation Uab(q1 : Qubit, q2: Qubit) : Unit {\n",
    "    R1(PI() / 3.0, q2);\n",
    "}\n",
    "\n",
    "operation Uac(q1 : Qubit, q2: Qubit)  : Unit {\n",
    "    R1(2.0 * PI() / 3.0, q2);\n",
    "}\n",
    "\n",
    "operation Ubc(q1 : Qubit, q2: Qubit)  : Unit {\n",
    "    R1(PI() / 3.0, q1);\n",
    "    R1(2.0 * PI() / 3.0, q2);\n",
    "}\n",
    "\"\"\""
   ]
  },
  {
   "cell_type": "code",
   "execution_count": null,
   "metadata": {},
   "outputs": [],
   "source": [
    "def wrap_in_entrypoint(qsharp_code, qsharp_expression) -> str:\n",
    "    return qsharp_code + \"\\n\\n\" + f\"\"\"\n",
    "    operation Main() : (Result, Result) {{\n",
    "         {qsharp_expression}\n",
    "    }}\"\"\""
   ]
  },
  {
   "cell_type": "code",
   "execution_count": null,
   "metadata": {},
   "outputs": [],
   "source": [
    "shots = 1024"
   ]
  },
  {
   "cell_type": "code",
   "execution_count": null,
   "metadata": {},
   "outputs": [],
   "source": [
    "code_to_test = wrap_in_entrypoint(code, \"RunBell(Uab)\")\n",
    "results_ab = run_on_quokka(shots, code_to_test)\n",
    "p_ab = results_ab[\"[0, 0]\"] / shots\n",
    "print(f\"P(a+,b+) = {p_ab}\")"
   ]
  },
  {
   "cell_type": "code",
   "execution_count": null,
   "metadata": {},
   "outputs": [],
   "source": [
    "code_to_test = wrap_in_entrypoint(code, \"RunBell(Ubc)\")\n",
    "results_bc = run_on_quokka(shots, code_to_test)\n",
    "p_bc = results_bc[\"[0, 0]\"] / shots\n",
    "print(f\"P(b+,c+) = {p_bc}\")"
   ]
  },
  {
   "cell_type": "code",
   "execution_count": null,
   "metadata": {},
   "outputs": [],
   "source": [
    "code_to_test = wrap_in_entrypoint(code, \"RunBell(Uac)\")\n",
    "results_ac = run_on_quokka(shots, code_to_test)\n",
    "p_ac = results_ac[\"[0, 0]\"] / shots\n",
    "print(f\"P(a+,c+) = {p_ac}\")"
   ]
  },
  {
   "cell_type": "code",
   "execution_count": null,
   "metadata": {},
   "outputs": [],
   "source": [
    "bell_result = p_ab + p_bc >= p_ac;\n",
    "print(f\"Bell's inequality satisfied? {bell_result}\");"
   ]
  }
 ],
 "metadata": {
  "kernelspec": {
   "display_name": ".venv",
   "language": "python",
   "name": "python3"
  },
  "language_info": {
   "codemirror_mode": {
    "name": "ipython",
    "version": 3
   },
   "file_extension": ".py",
   "mimetype": "text/x-python",
   "name": "python",
   "nbconvert_exporter": "python",
   "pygments_lexer": "ipython3",
   "version": "3.11.4"
  }
 },
 "nbformat": 4,
 "nbformat_minor": 2
}
